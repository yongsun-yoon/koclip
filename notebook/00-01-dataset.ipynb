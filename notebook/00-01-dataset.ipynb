{
 "cells": [
  {
   "cell_type": "code",
   "execution_count": 1,
   "id": "35993339",
   "metadata": {},
   "outputs": [],
   "source": [
    "import json\n",
    "import pandas as pd"
   ]
  },
  {
   "cell_type": "code",
   "execution_count": 8,
   "id": "bab976ac",
   "metadata": {},
   "outputs": [],
   "source": [
    "data = json.load(open('../data/MSCOCO_train_val_Korean.json', 'r'))"
   ]
  },
  {
   "cell_type": "code",
   "execution_count": 10,
   "id": "f686184d",
   "metadata": {},
   "outputs": [],
   "source": [
    "train_data, test_data = [], []\n",
    "for d in data:\n",
    "    en = d['captions']\n",
    "    ko = d['caption_ko']\n",
    "    \n",
    "    lst = train_data if 'train' in d['file_path'] else test_data\n",
    "    for e, k in zip(en, ko):\n",
    "        lst.append({'en': e, 'ko': k})"
   ]
  },
  {
   "cell_type": "code",
   "execution_count": 11,
   "id": "e1d324f1",
   "metadata": {},
   "outputs": [],
   "source": [
    "train_data = pd.DataFrame(train_data)\n",
    "test_data = pd.DataFrame(test_data)"
   ]
  },
  {
   "cell_type": "code",
   "execution_count": 12,
   "id": "cda416ed",
   "metadata": {},
   "outputs": [],
   "source": [
    "kolen = train_data['ko'].str.len() > 5\n",
    "enlen = train_data['en'].str.len() > 5\n",
    "train_data = train_data.loc[kolen & enlen]"
   ]
  },
  {
   "cell_type": "code",
   "execution_count": 13,
   "id": "1497b971",
   "metadata": {},
   "outputs": [],
   "source": [
    "kolen = test_data['ko'].str.len() > 5\n",
    "enlen = test_data['en'].str.len() > 5\n",
    "test_data = test_data.loc[kolen & enlen]"
   ]
  },
  {
   "cell_type": "code",
   "execution_count": 14,
   "id": "85820d21",
   "metadata": {},
   "outputs": [],
   "source": [
    "train_data.to_csv('../data/mscoco_train.csv', index=False)\n",
    "test_data.to_csv('../data/mscoco_test.csv', index=False)"
   ]
  },
  {
   "cell_type": "code",
   "execution_count": 16,
   "id": "ddb0cbf8",
   "metadata": {},
   "outputs": [
    {
     "data": {
      "text/plain": [
       "6"
      ]
     },
     "execution_count": 16,
     "metadata": {},
     "output_type": "execute_result"
    }
   ],
   "source": [
    "train_data['ko'].str.len().min()"
   ]
  },
  {
   "cell_type": "code",
   "execution_count": null,
   "id": "a571534c",
   "metadata": {},
   "outputs": [],
   "source": []
  }
 ],
 "metadata": {
  "kernelspec": {
   "display_name": "Python 3 (ipykernel)",
   "language": "python",
   "name": "python3"
  },
  "language_info": {
   "codemirror_mode": {
    "name": "ipython",
    "version": 3
   },
   "file_extension": ".py",
   "mimetype": "text/x-python",
   "name": "python",
   "nbconvert_exporter": "python",
   "pygments_lexer": "ipython3",
   "version": "3.8.0"
  },
  "toc": {
   "base_numbering": 1,
   "nav_menu": {},
   "number_sections": false,
   "sideBar": true,
   "skip_h1_title": true,
   "title_cell": "Table of Contents",
   "title_sidebar": "Contents",
   "toc_cell": false,
   "toc_position": {},
   "toc_section_display": true,
   "toc_window_display": false
  }
 },
 "nbformat": 4,
 "nbformat_minor": 5
}
