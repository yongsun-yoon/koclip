{
 "cells": [
  {
   "cell_type": "markdown",
   "id": "1af389c0",
   "metadata": {},
   "source": [
    "# KoCLIP"
   ]
  },
  {
   "cell_type": "markdown",
   "id": "d9a57598",
   "metadata": {},
   "source": [
    "## 1. Setup"
   ]
  },
  {
   "cell_type": "code",
   "execution_count": 28,
   "id": "f88bcfd0",
   "metadata": {},
   "outputs": [],
   "source": [
    "import json\n",
    "import easydict\n",
    "import numpy as np\n",
    "import pandas as pd\n",
    "from tqdm.auto import tqdm\n",
    "\n",
    "import torch\n",
    "import torch.nn as nn\n",
    "import torch.nn.functional as F\n",
    "\n",
    "from transformers import AutoModel, AutoTokenizer, AutoModelForSequenceClassification, CLIPModel, CLIPTextModel"
   ]
  },
  {
   "cell_type": "code",
   "execution_count": 2,
   "id": "fa83afab",
   "metadata": {},
   "outputs": [],
   "source": [
    "cfg = easydict.EasyDict(\n",
    "    device = 'cuda:0',\n",
    "    clip_model = \"openai/clip-vit-base-patch32\",\n",
    "    korean_model = 'klue/roberta-small',\n",
    ")"
   ]
  },
  {
   "cell_type": "markdown",
   "id": "2fa0c941",
   "metadata": {},
   "source": [
    "## 2. Data"
   ]
  },
  {
   "cell_type": "code",
   "execution_count": 4,
   "id": "de7c7eb0",
   "metadata": {},
   "outputs": [],
   "source": [
    "tokenizer = AutoTokenizer.from_pretrained(cfg.clip_model)"
   ]
  },
  {
   "cell_type": "code",
   "execution_count": 5,
   "id": "bf1bdcd8",
   "metadata": {},
   "outputs": [],
   "source": [
    "model = CLIPModel.from_pretrained(cfg.clip_model)"
   ]
  },
  {
   "cell_type": "code",
   "execution_count": 10,
   "id": "8ca62472",
   "metadata": {},
   "outputs": [],
   "source": [
    "inputs = tokenizer(['hi', 'how are you'], return_tensors='pt', padding=True)"
   ]
  },
  {
   "cell_type": "code",
   "execution_count": 13,
   "id": "21ddf716",
   "metadata": {},
   "outputs": [],
   "source": [
    "out = model.text_model(**inputs)\n",
    "emb = model.text_projection(out.pooler_output)"
   ]
  },
  {
   "cell_type": "code",
   "execution_count": 14,
   "id": "bd6119c6",
   "metadata": {},
   "outputs": [
    {
     "data": {
      "text/plain": [
       "torch.Size([2, 512])"
      ]
     },
     "execution_count": 14,
     "metadata": {},
     "output_type": "execute_result"
    }
   ],
   "source": [
    "emb.shape"
   ]
  },
  {
   "cell_type": "code",
   "execution_count": null,
   "id": "7fad5265",
   "metadata": {},
   "outputs": [],
   "source": [
    "class Dataset()"
   ]
  },
  {
   "cell_type": "code",
   "execution_count": 23,
   "id": "9817ab23",
   "metadata": {},
   "outputs": [],
   "source": [
    "trans = json.load(open('../data/MSCOCO_train_val_Korean.json'))"
   ]
  },
  {
   "cell_type": "code",
   "execution_count": null,
   "id": "561655cb",
   "metadata": {},
   "outputs": [],
   "source": [
    "trans[0]"
   ]
  },
  {
   "cell_type": "code",
   "execution_count": null,
   "id": "6fdf6183",
   "metadata": {},
   "outputs": [],
   "source": [
    "trans_train = []\n",
    "trans_val = []\n",
    "\n",
    "for t in tqdm(trans):\n",
    "    if 'train' in t['file_path']:\n",
    "        trans_train.append(t)\n",
    "    else:\n",
    "        trans_val.append(t)"
   ]
  },
  {
   "cell_type": "code",
   "execution_count": null,
   "id": "fe2e5475",
   "metadata": {},
   "outputs": [],
   "source": [
    "len(trans_train), len(trans_val)"
   ]
  },
  {
   "cell_type": "markdown",
   "id": "8ec733b0",
   "metadata": {},
   "source": [
    "## 3. Model"
   ]
  },
  {
   "cell_type": "code",
   "execution_count": 29,
   "id": "f5be3ee3",
   "metadata": {},
   "outputs": [],
   "source": [
    "d = pd.read_csv('../data/mscoco_test.csv')"
   ]
  },
  {
   "cell_type": "code",
   "execution_count": 30,
   "id": "2eb6c880",
   "metadata": {},
   "outputs": [],
   "source": [
    "batch_idxs = np.random.randint(0, len(d), 16)"
   ]
  },
  {
   "cell_type": "code",
   "execution_count": 32,
   "id": "1b4e973d",
   "metadata": {},
   "outputs": [],
   "source": [
    "batch = d.iloc[batch_idxs]"
   ]
  },
  {
   "cell_type": "code",
   "execution_count": 36,
   "id": "c9cda3ca",
   "metadata": {},
   "outputs": [
    {
     "data": {
      "text/plain": [
       "{'input_ids': tensor([[49406,   320,  4456,   593, 31124,   267,  2972,   267, 19667,   537,\n",
       "           320,  3979,   556,  1047,   531,  2131,   269, 49407, 49407],\n",
       "        [49406,   320,  3638,  1901,  2012,  2292,  4919,  1131,   531,   320,\n",
       "          4163,  9973,  2292,   269, 49407, 49407, 49407, 49407, 49407],\n",
       "        [49406,   320,  9629,   530,   518,  1570,  1265,  3209,   333,   638,\n",
       "           320,   786,   269, 49407, 49407, 49407, 49407, 49407, 49407],\n",
       "        [49406,  1237,  1449,  2368,  4919,   530,  2184,   539,   320,  4879,\n",
       "          7619,   518, 12608,   269, 49407, 49407, 49407, 49407, 49407],\n",
       "        [49406,   320,  3032,   530,  2349,  8687,  4919,   525,  1253,   539,\n",
       "           320,  1579,  5135,   269, 49407, 49407, 49407, 49407, 49407],\n",
       "        [49406,   320,  2913,  7286,   320, 36841, 16736,   620,   539,   911,\n",
       "          4932,  1519, 35072,   911,  8225,   269, 49407, 49407, 49407],\n",
       "        [49406,  1237,  2034,  1629,   320,  2054,  1455,  1063,  1952,   269,\n",
       "         49407, 49407, 49407, 49407, 49407, 49407, 49407, 49407, 49407],\n",
       "        [49406,   320,  1771,   539,  1462,   612,  2694,   320,  1166,   593,\n",
       "          2972, 49407, 49407, 49407, 49407, 49407, 49407, 49407, 49407],\n",
       "        [49406,   320,  3701,   593, 14223,   525,   585,  4919,  1131,   531,\n",
       "          3346,   269, 49407, 49407, 49407, 49407, 49407, 49407, 49407],\n",
       "        [49406,   518,   786,   533,  6765,   787, 10297,  9920,  1704,   269,\n",
       "         49407, 49407, 49407, 49407, 49407, 49407, 49407, 49407, 49407],\n",
       "        [49406,  5560,  2254, 22611,   682,   631,  3941,  2528,   320, 11795,\n",
       "          5035,   269, 49407, 49407, 49407, 49407, 49407, 49407, 49407],\n",
       "        [49406,  1237, 16871,   631,  7957,  2416,  1010,   593,   911, 24828,\n",
       "           662, 49407, 49407, 49407, 49407, 49407, 49407, 49407, 49407],\n",
       "        [49406,  1237,  5984, 13247,   631,   525,  1253,   539,   320,  8170,\n",
       "         49407, 49407, 49407, 49407, 49407, 49407, 49407, 49407, 49407],\n",
       "        [49406, 29260,   539,  2731, 10253,  4037,   530,   320, 20182, 12060,\n",
       "           269, 49407, 49407, 49407, 49407, 49407, 49407, 49407, 49407],\n",
       "        [49406,   320,  4115,  1951,  4919,   525,   320, 14559,  1131,   531,\n",
       "           320,  7870, 18138,   705,   531,  1380,  8163,   269, 49407],\n",
       "        [49406,   320,  2308,   533,  1312,   536,   320,  5046,  4558,   530,\n",
       "           518,  3272,   269, 49407, 49407, 49407, 49407, 49407, 49407]]), 'attention_mask': tensor([[1, 1, 1, 1, 1, 1, 1, 1, 1, 1, 1, 1, 1, 1, 1, 1, 1, 1, 0],\n",
       "        [1, 1, 1, 1, 1, 1, 1, 1, 1, 1, 1, 1, 1, 1, 1, 0, 0, 0, 0],\n",
       "        [1, 1, 1, 1, 1, 1, 1, 1, 1, 1, 1, 1, 1, 1, 0, 0, 0, 0, 0],\n",
       "        [1, 1, 1, 1, 1, 1, 1, 1, 1, 1, 1, 1, 1, 1, 1, 0, 0, 0, 0],\n",
       "        [1, 1, 1, 1, 1, 1, 1, 1, 1, 1, 1, 1, 1, 1, 1, 0, 0, 0, 0],\n",
       "        [1, 1, 1, 1, 1, 1, 1, 1, 1, 1, 1, 1, 1, 1, 1, 1, 1, 0, 0],\n",
       "        [1, 1, 1, 1, 1, 1, 1, 1, 1, 1, 1, 0, 0, 0, 0, 0, 0, 0, 0],\n",
       "        [1, 1, 1, 1, 1, 1, 1, 1, 1, 1, 1, 1, 0, 0, 0, 0, 0, 0, 0],\n",
       "        [1, 1, 1, 1, 1, 1, 1, 1, 1, 1, 1, 1, 1, 0, 0, 0, 0, 0, 0],\n",
       "        [1, 1, 1, 1, 1, 1, 1, 1, 1, 1, 1, 0, 0, 0, 0, 0, 0, 0, 0],\n",
       "        [1, 1, 1, 1, 1, 1, 1, 1, 1, 1, 1, 1, 1, 0, 0, 0, 0, 0, 0],\n",
       "        [1, 1, 1, 1, 1, 1, 1, 1, 1, 1, 1, 1, 0, 0, 0, 0, 0, 0, 0],\n",
       "        [1, 1, 1, 1, 1, 1, 1, 1, 1, 1, 1, 0, 0, 0, 0, 0, 0, 0, 0],\n",
       "        [1, 1, 1, 1, 1, 1, 1, 1, 1, 1, 1, 1, 0, 0, 0, 0, 0, 0, 0],\n",
       "        [1, 1, 1, 1, 1, 1, 1, 1, 1, 1, 1, 1, 1, 1, 1, 1, 1, 1, 1],\n",
       "        [1, 1, 1, 1, 1, 1, 1, 1, 1, 1, 1, 1, 1, 1, 0, 0, 0, 0, 0]])}"
      ]
     },
     "execution_count": 36,
     "metadata": {},
     "output_type": "execute_result"
    }
   ],
   "source": [
    "en_inputs= tokenizer(batch['en'].tolist(), return_tensors='pt', padding=True)"
   ]
  },
  {
   "cell_type": "code",
   "execution_count": null,
   "id": "a632aaf5",
   "metadata": {},
   "outputs": [],
   "source": [
    "model = CLIPModel.from_pretrained(cfg.clip_model).to(cfg.device)\n",
    "processor = CLIPProcessor.from_pretrained(cfg.clip_model)"
   ]
  },
  {
   "cell_type": "code",
   "execution_count": 20,
   "id": "4ca9fdc6",
   "metadata": {},
   "outputs": [
    {
     "data": {
      "text/plain": [
       "Parameter containing:\n",
       "tensor([[-3.9053e-03, -6.3254e-03,  7.3507e-03,  ..., -1.0660e-02,\n",
       "         -2.2764e-02, -1.0908e-02],\n",
       "        [-2.6081e-02,  8.7953e-03, -1.1737e-02,  ..., -1.2019e-02,\n",
       "         -2.4059e-02, -2.1929e-02],\n",
       "        [-1.9648e-02, -6.6711e-03, -9.0593e-03,  ...,  4.5782e-03,\n",
       "         -2.0692e-02, -8.7150e-03],\n",
       "        ...,\n",
       "        [ 8.5028e-03,  1.0219e-03,  2.0366e-02,  ...,  1.4868e-02,\n",
       "          1.7627e-02, -1.4752e-03],\n",
       "        [-1.6741e-03,  7.3048e-05, -4.1996e-03,  ..., -3.4096e-03,\n",
       "         -3.9295e-03, -5.5289e-05],\n",
       "        [-6.0260e-03,  2.0210e-03,  4.9674e-04,  ..., -3.3459e-03,\n",
       "         -9.8587e-03, -2.3390e-04]], requires_grad=True)"
      ]
     },
     "execution_count": 20,
     "metadata": {},
     "output_type": "execute_result"
    }
   ],
   "source": [
    "model.text_model.embeddings.token_embedding.weight"
   ]
  },
  {
   "cell_type": "code",
   "execution_count": null,
   "id": "abe2a2be",
   "metadata": {},
   "outputs": [],
   "source": []
  },
  {
   "cell_type": "code",
   "execution_count": null,
   "id": "d319bfa9",
   "metadata": {},
   "outputs": [],
   "source": [
    "korean_model = AutoModel.from_pretrained(cfg.korean_model)"
   ]
  },
  {
   "cell_type": "code",
   "execution_count": null,
   "id": "8d966dd2",
   "metadata": {},
   "outputs": [],
   "source": [
    "korean_model.pooler.dense.weight.data = korean_model.pooler.dense.weight[:512].data\n",
    "korean_model.pooler.dense.bias.data = korean_model.pooler.dense.bias[:512].data\n",
    "_ = korean_model.to(cfg.device)"
   ]
  },
  {
   "cell_type": "code",
   "execution_count": null,
   "id": "acdd552e",
   "metadata": {},
   "outputs": [],
   "source": [
    "model.text_model = korean_model\n",
    "processor.tokenizer = korean_tokenizer"
   ]
  },
  {
   "cell_type": "code",
   "execution_count": null,
   "id": "b3db222c",
   "metadata": {},
   "outputs": [],
   "source": []
  },
  {
   "cell_type": "code",
   "execution_count": null,
   "id": "657a1a6d",
   "metadata": {},
   "outputs": [],
   "source": [
    "kor_projection = nn.Linear(korean_model.config.hidden_size, model.projection_dim, bias=False).to(cfg.device)\n",
    "korean_tokenizer = AutoTokenizer.from_pretrained(cfg.korean_model)"
   ]
  },
  {
   "cell_type": "code",
   "execution_count": null,
   "id": "41219bf1",
   "metadata": {},
   "outputs": [],
   "source": [
    "text = t['captions']\n",
    "text = t['caption_ko']\n",
    "inputs = processor(text=text, return_tensors='pt', padding=True).to(cfg.device)\n",
    "korean_inputs = korean_tokenizer(text, return_tensors='pt', padding=True).to(cfg.device)"
   ]
  },
  {
   "cell_type": "code",
   "execution_count": null,
   "id": "aaeced3f",
   "metadata": {},
   "outputs": [],
   "source": [
    "out = model.text_model(**inputs)\n",
    "embeds = model.text_projection(out.pooler_output)"
   ]
  },
  {
   "cell_type": "code",
   "execution_count": null,
   "id": "dad33d57",
   "metadata": {},
   "outputs": [],
   "source": [
    "embeds.shape"
   ]
  },
  {
   "cell_type": "code",
   "execution_count": null,
   "id": "e748e3a1",
   "metadata": {},
   "outputs": [],
   "source": [
    "model.text_model(**inputs)[0].shape"
   ]
  },
  {
   "cell_type": "code",
   "execution_count": null,
   "id": "139cc5b5",
   "metadata": {},
   "outputs": [],
   "source": [
    "out = model.text_model(**inputs)\n",
    "embeds = model.text_projection(out.pooler_output)\n",
    "\n",
    "kor_out = kor_model(**korean_inputs)\n",
    "kor_embeds = kor_out.logits\n",
    "# kor_embeds = kor_projection(kor_out.pooler_output)"
   ]
  },
  {
   "cell_type": "code",
   "execution_count": null,
   "id": "31a8f12e",
   "metadata": {},
   "outputs": [],
   "source": [
    "loss = F.mse_loss(kor_embeds, embeds)"
   ]
  },
  {
   "cell_type": "code",
   "execution_count": null,
   "id": "097ed68e",
   "metadata": {},
   "outputs": [],
   "source": [
    "loss"
   ]
  },
  {
   "cell_type": "code",
   "execution_count": null,
   "id": "c4ee3a8e",
   "metadata": {},
   "outputs": [],
   "source": [
    "a = AutoModelForSequenceClassification.from_pretrained(cfg.korean_model, num_labels=512).to(cfg.device)"
   ]
  },
  {
   "cell_type": "code",
   "execution_count": null,
   "id": "19e725e0",
   "metadata": {},
   "outputs": [],
   "source": [
    "out = a(**inputs)"
   ]
  },
  {
   "cell_type": "code",
   "execution_count": null,
   "id": "edd48d72",
   "metadata": {},
   "outputs": [],
   "source": [
    "out[1]"
   ]
  },
  {
   "cell_type": "code",
   "execution_count": null,
   "id": "dab71629",
   "metadata": {},
   "outputs": [],
   "source": [
    "model.save_pretrained('clip')"
   ]
  },
  {
   "cell_type": "code",
   "execution_count": null,
   "id": "851d522d",
   "metadata": {},
   "outputs": [],
   "source": [
    "processor.save_pretrained('clip')"
   ]
  },
  {
   "cell_type": "code",
   "execution_count": null,
   "id": "9a86aff6",
   "metadata": {},
   "outputs": [],
   "source": [
    "korean_model.config"
   ]
  },
  {
   "cell_type": "code",
   "execution_count": null,
   "id": "4e2d467d",
   "metadata": {},
   "outputs": [],
   "source": [
    "model.config.text_config = korean_model.config"
   ]
  },
  {
   "cell_type": "code",
   "execution_count": null,
   "id": "97385939",
   "metadata": {},
   "outputs": [],
   "source": [
    "model.config.save_pretrained('clip')"
   ]
  },
  {
   "cell_type": "code",
   "execution_count": null,
   "id": "d1f0a665",
   "metadata": {},
   "outputs": [],
   "source": [
    "a = CLIPModel.from_pretrained('clip')"
   ]
  },
  {
   "cell_type": "code",
   "execution_count": null,
   "id": "337161ea",
   "metadata": {},
   "outputs": [],
   "source": [
    "a.config.text_config"
   ]
  },
  {
   "cell_type": "code",
   "execution_count": null,
   "id": "e6e2fa67",
   "metadata": {},
   "outputs": [],
   "source": [
    "a.text_model"
   ]
  },
  {
   "cell_type": "code",
   "execution_count": null,
   "id": "ca23fd69",
   "metadata": {},
   "outputs": [],
   "source": []
  }
 ],
 "metadata": {
  "kernelspec": {
   "display_name": "Python 3 (ipykernel)",
   "language": "python",
   "name": "python3"
  },
  "language_info": {
   "codemirror_mode": {
    "name": "ipython",
    "version": 3
   },
   "file_extension": ".py",
   "mimetype": "text/x-python",
   "name": "python",
   "nbconvert_exporter": "python",
   "pygments_lexer": "ipython3",
   "version": "3.8.0"
  },
  "toc": {
   "base_numbering": 1,
   "nav_menu": {},
   "number_sections": false,
   "sideBar": true,
   "skip_h1_title": true,
   "title_cell": "Table of Contents",
   "title_sidebar": "Contents",
   "toc_cell": false,
   "toc_position": {},
   "toc_section_display": true,
   "toc_window_display": false
  }
 },
 "nbformat": 4,
 "nbformat_minor": 5
}
