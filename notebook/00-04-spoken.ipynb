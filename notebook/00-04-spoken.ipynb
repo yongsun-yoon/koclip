{
 "cells": [
  {
   "cell_type": "code",
   "execution_count": 1,
   "id": "da69459e",
   "metadata": {},
   "outputs": [],
   "source": [
    "import pandas as pd"
   ]
  },
  {
   "cell_type": "code",
   "execution_count": 2,
   "id": "fba36bbe",
   "metadata": {},
   "outputs": [],
   "source": [
    "d = pd.read_excel('../data/spoken.xlsx')"
   ]
  },
  {
   "cell_type": "code",
   "execution_count": 4,
   "id": "2bda7c45",
   "metadata": {},
   "outputs": [],
   "source": [
    "d = d[['원문', '번역문']]\n",
    "d.columns = ['ko', 'en']"
   ]
  },
  {
   "cell_type": "code",
   "execution_count": 12,
   "id": "225a01f5",
   "metadata": {},
   "outputs": [],
   "source": [
    "kolen = d['ko'].str.len() > 5\n",
    "enlen = d['en'].str.len() > 5"
   ]
  },
  {
   "cell_type": "code",
   "execution_count": 14,
   "id": "6f432230",
   "metadata": {},
   "outputs": [],
   "source": [
    "d = d[kolen & enlen]"
   ]
  },
  {
   "cell_type": "code",
   "execution_count": 15,
   "id": "ee43e9d6",
   "metadata": {},
   "outputs": [],
   "source": [
    "d.to_csv('../data/spoken_01.csv', index=False)"
   ]
  },
  {
   "cell_type": "code",
   "execution_count": null,
   "id": "98be10f9",
   "metadata": {},
   "outputs": [],
   "source": []
  }
 ],
 "metadata": {
  "kernelspec": {
   "display_name": "Python 3 (ipykernel)",
   "language": "python",
   "name": "python3"
  },
  "language_info": {
   "codemirror_mode": {
    "name": "ipython",
    "version": 3
   },
   "file_extension": ".py",
   "mimetype": "text/x-python",
   "name": "python",
   "nbconvert_exporter": "python",
   "pygments_lexer": "ipython3",
   "version": "3.8.0"
  },
  "toc": {
   "base_numbering": 1,
   "nav_menu": {},
   "number_sections": false,
   "sideBar": true,
   "skip_h1_title": true,
   "title_cell": "Table of Contents",
   "title_sidebar": "Contents",
   "toc_cell": false,
   "toc_position": {},
   "toc_section_display": true,
   "toc_window_display": false
  }
 },
 "nbformat": 4,
 "nbformat_minor": 5
}
